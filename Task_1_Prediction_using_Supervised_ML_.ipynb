{
  "nbformat": 4,
  "nbformat_minor": 0,
  "metadata": {
    "colab": {
      "name": "Task_1_Prediction_using_Supervised_ML_.ipynb",
      "provenance": [],
      "collapsed_sections": []
    },
    "kernelspec": {
      "name": "python3",
      "display_name": "Python 3"
    },
    "language_info": {
      "name": "python"
    }
  },
  "cells": [
    {
      "cell_type": "markdown",
      "metadata": {
        "id": "WiYt8j8Zo3yk"
      },
      "source": [
        "\n",
        "# **The Sparks Foundation**\n",
        "\n",
        "\n",
        "\n",
        "\n",
        "\n",
        "---\n",
        "\n",
        "\n",
        "\n",
        "NAME :PRAVEENSRI T\n",
        "\n",
        "**Data Science & Business Analytics**\n",
        "\n",
        "**TASK 1 - Prediction using Supervised ML**\n",
        "\n",
        "Task Description : Predict the percentage of an student based on the no. of study hours.\n",
        "\n",
        "\n",
        "\n"
      ]
    },
    {
      "cell_type": "code",
      "metadata": {
        "id": "skaggs3ro741"
      },
      "source": [
        "# importing the required libraries\n",
        "import pandas as pd\n",
        "import numpy as np\n",
        "import matplotlib.pyplot as plt \n",
        "import seaborn as sns\n",
        "from sklearn.model_selection import train_test_split\n",
        "from sklearn.linear_model import LinearRegression\n",
        "from sklearn.metrics import mean_absolute_error"
      ],
      "execution_count": null,
      "outputs": []
    },
    {
      "cell_type": "markdown",
      "metadata": {
        "id": "OYYoy_04jKyq"
      },
      "source": [
        "# **Collecting the Data**"
      ]
    },
    {
      "cell_type": "markdown",
      "metadata": {
        "id": "Jyz-dsGgq4R4"
      },
      "source": [
        "**LOADING DATASET**\n",
        "\n",
        "Data : Scores of a student based on the number of study hours\n",
        "\n",
        "Dataset Link : http://bit.ly/w-data"
      ]
    },
    {
      "cell_type": "code",
      "metadata": {
        "colab": {
          "base_uri": "https://localhost:8080/",
          "height": 376
        },
        "id": "QgFfI9nIq3n6",
        "outputId": "e61ebe9e-b491-4818-b2ff-b0adb725f2fc"
      },
      "source": [
        "# Reading the data \n",
        "data = pd.read_csv('http://bit.ly/w-data')\n",
        "print(\"Data imported successfully\")\n",
        "\n",
        "data.head(10)"
      ],
      "execution_count": null,
      "outputs": [
        {
          "output_type": "stream",
          "name": "stdout",
          "text": [
            "Data imported successfully\n"
          ]
        },
        {
          "output_type": "execute_result",
          "data": {
            "text/html": [
              "<div>\n",
              "<style scoped>\n",
              "    .dataframe tbody tr th:only-of-type {\n",
              "        vertical-align: middle;\n",
              "    }\n",
              "\n",
              "    .dataframe tbody tr th {\n",
              "        vertical-align: top;\n",
              "    }\n",
              "\n",
              "    .dataframe thead th {\n",
              "        text-align: right;\n",
              "    }\n",
              "</style>\n",
              "<table border=\"1\" class=\"dataframe\">\n",
              "  <thead>\n",
              "    <tr style=\"text-align: right;\">\n",
              "      <th></th>\n",
              "      <th>Hours</th>\n",
              "      <th>Scores</th>\n",
              "    </tr>\n",
              "  </thead>\n",
              "  <tbody>\n",
              "    <tr>\n",
              "      <th>0</th>\n",
              "      <td>2.5</td>\n",
              "      <td>21</td>\n",
              "    </tr>\n",
              "    <tr>\n",
              "      <th>1</th>\n",
              "      <td>5.1</td>\n",
              "      <td>47</td>\n",
              "    </tr>\n",
              "    <tr>\n",
              "      <th>2</th>\n",
              "      <td>3.2</td>\n",
              "      <td>27</td>\n",
              "    </tr>\n",
              "    <tr>\n",
              "      <th>3</th>\n",
              "      <td>8.5</td>\n",
              "      <td>75</td>\n",
              "    </tr>\n",
              "    <tr>\n",
              "      <th>4</th>\n",
              "      <td>3.5</td>\n",
              "      <td>30</td>\n",
              "    </tr>\n",
              "    <tr>\n",
              "      <th>5</th>\n",
              "      <td>1.5</td>\n",
              "      <td>20</td>\n",
              "    </tr>\n",
              "    <tr>\n",
              "      <th>6</th>\n",
              "      <td>9.2</td>\n",
              "      <td>88</td>\n",
              "    </tr>\n",
              "    <tr>\n",
              "      <th>7</th>\n",
              "      <td>5.5</td>\n",
              "      <td>60</td>\n",
              "    </tr>\n",
              "    <tr>\n",
              "      <th>8</th>\n",
              "      <td>8.3</td>\n",
              "      <td>81</td>\n",
              "    </tr>\n",
              "    <tr>\n",
              "      <th>9</th>\n",
              "      <td>2.7</td>\n",
              "      <td>25</td>\n",
              "    </tr>\n",
              "  </tbody>\n",
              "</table>\n",
              "</div>"
            ],
            "text/plain": [
              "   Hours  Scores\n",
              "0    2.5      21\n",
              "1    5.1      47\n",
              "2    3.2      27\n",
              "3    8.5      75\n",
              "4    3.5      30\n",
              "5    1.5      20\n",
              "6    9.2      88\n",
              "7    5.5      60\n",
              "8    8.3      81\n",
              "9    2.7      25"
            ]
          },
          "metadata": {},
          "execution_count": 2
        }
      ]
    },
    {
      "cell_type": "code",
      "metadata": {
        "colab": {
          "base_uri": "https://localhost:8080/"
        },
        "id": "I4xae6MNsaBR",
        "outputId": "e13f43ca-77f0-4a32-dd6f-be3f19e7559f"
      },
      "source": [
        "# Checking if there are null(missing) values in the Dataset\n",
        "data.isnull == True"
      ],
      "execution_count": null,
      "outputs": [
        {
          "output_type": "execute_result",
          "data": {
            "text/plain": [
              "False"
            ]
          },
          "metadata": {},
          "execution_count": 3
        }
      ]
    },
    {
      "cell_type": "markdown",
      "metadata": {
        "id": "zuvsYsd-spOJ"
      },
      "source": [
        "**There is no null value in the Dataset. So, we can now visualize our Data.**"
      ]
    },
    {
      "cell_type": "code",
      "metadata": {
        "colab": {
          "base_uri": "https://localhost:8080/",
          "height": 264
        },
        "id": "IVpAjbCysmWX",
        "outputId": "186d96c4-f063-43c6-fcca-3b554d5087c9"
      },
      "source": [
        "# Displaying the summary of a DataFrame\n",
        "data.info()\n",
        "\n",
        "# Checking the correlation between hours and scores \n",
        "data.corr()"
      ],
      "execution_count": null,
      "outputs": [
        {
          "output_type": "stream",
          "name": "stdout",
          "text": [
            "<class 'pandas.core.frame.DataFrame'>\n",
            "RangeIndex: 25 entries, 0 to 24\n",
            "Data columns (total 2 columns):\n",
            " #   Column  Non-Null Count  Dtype  \n",
            "---  ------  --------------  -----  \n",
            " 0   Hours   25 non-null     float64\n",
            " 1   Scores  25 non-null     int64  \n",
            "dtypes: float64(1), int64(1)\n",
            "memory usage: 528.0 bytes\n"
          ]
        },
        {
          "output_type": "execute_result",
          "data": {
            "text/html": [
              "<div>\n",
              "<style scoped>\n",
              "    .dataframe tbody tr th:only-of-type {\n",
              "        vertical-align: middle;\n",
              "    }\n",
              "\n",
              "    .dataframe tbody tr th {\n",
              "        vertical-align: top;\n",
              "    }\n",
              "\n",
              "    .dataframe thead th {\n",
              "        text-align: right;\n",
              "    }\n",
              "</style>\n",
              "<table border=\"1\" class=\"dataframe\">\n",
              "  <thead>\n",
              "    <tr style=\"text-align: right;\">\n",
              "      <th></th>\n",
              "      <th>Hours</th>\n",
              "      <th>Scores</th>\n",
              "    </tr>\n",
              "  </thead>\n",
              "  <tbody>\n",
              "    <tr>\n",
              "      <th>Hours</th>\n",
              "      <td>1.000000</td>\n",
              "      <td>0.976191</td>\n",
              "    </tr>\n",
              "    <tr>\n",
              "      <th>Scores</th>\n",
              "      <td>0.976191</td>\n",
              "      <td>1.000000</td>\n",
              "    </tr>\n",
              "  </tbody>\n",
              "</table>\n",
              "</div>"
            ],
            "text/plain": [
              "           Hours    Scores\n",
              "Hours   1.000000  0.976191\n",
              "Scores  0.976191  1.000000"
            ]
          },
          "metadata": {},
          "execution_count": 5
        }
      ]
    },
    {
      "cell_type": "code",
      "metadata": {
        "id": "CeBa1lxTsz7R",
        "colab": {
          "base_uri": "https://localhost:8080/",
          "height": 295
        },
        "outputId": "5b2f3fb5-88e5-4b9f-e666-cce1cbf952f0"
      },
      "source": [
        "# Plotting the data of Hours vs Scores(Percentage)\n",
        "data.plot(x=\"Hours\", y=\"Scores\",style=\"o\")\n",
        "plt.title(\"Hours vs Scores\")\n",
        "plt.xlabel(\"Hours Studied\")\n",
        "plt.ylabel(\"Percentage scored\")\n",
        "plt.show()"
      ],
      "execution_count": null,
      "outputs": [
        {
          "output_type": "display_data",
          "data": {
            "image/png": "[encoded data removed]",
            "text/plain": [
              "<Figure size 432x288 with 1 Axes>"
            ]
          },
          "metadata": {
            "needs_background": "light"
          }
        }
      ]
    },
    {
      "cell_type": "markdown",
      "metadata": {
        "id": "10P_yRAgvfeg"
      },
      "source": [
        "From the above graph , as we can see that  there is positive correlation between the Hours studied and the Percentage score. Hence it is a Linear Regression.\n",
        "\n"
      ]
    },
    {
      "cell_type": "markdown",
      "metadata": {
        "id": "N2npD_Ljv5vN"
      },
      "source": [
        "## **Training the Model**\n",
        " \n",
        " **PREPARING THE DATA**\n"
      ]
    },
    {
      "cell_type": "markdown",
      "metadata": {
        "id": "1bo72sGxZu82"
      },
      "source": [
        "Splitting the Data\n",
        "\n"
      ]
    },
    {
      "cell_type": "code",
      "metadata": {
        "id": "w4siJY4ov9iN"
      },
      "source": [
        "# Selecting the Values for x and y labels\n",
        "\n",
        "x = data.iloc[:,:-1].values\n",
        "y = data.iloc[:,1].values"
      ],
      "execution_count": null,
      "outputs": []
    },
    {
      "cell_type": "markdown",
      "metadata": {
        "id": "gZke9YBzwMhF"
      },
      "source": [
        "\n",
        "Now , splitting the data into testing and training datasets"
      ]
    },
    {
      "cell_type": "code",
      "metadata": {
        "id": "xNd5ZPMNv_xY"
      },
      "source": [
        "from sklearn.model_selection import train_test_split\n",
        "x_train, x_test, y_train, y_test = train_test_split(x, y,test_size = 0.25, random_state = 0)"
      ],
      "execution_count": null,
      "outputs": []
    },
    {
      "cell_type": "markdown",
      "metadata": {
        "id": "B0wcDt2vwdeg"
      },
      "source": [
        "\n",
        "\n",
        "The values taken from the training dataset are trained using linear regression model algorithm."
      ]
    },
    {
      "cell_type": "markdown",
      "metadata": {
        "id": "jTzbndolanp9"
      },
      "source": [
        "**TRAINING THE MODEL**"
      ]
    },
    {
      "cell_type": "code",
      "metadata": {
        "colab": {
          "base_uri": "https://localhost:8080/"
        },
        "id": "NpyMEyCpv_of",
        "outputId": "97b755a2-5208-47be-9f72-38102243e152"
      },
      "source": [
        "from sklearn.linear_model import LinearRegression\n",
        "reg = LinearRegression()\n",
        "reg.fit(x_train,y_train)\n",
        "print(\"Model trained Successfully\")"
      ],
      "execution_count": null,
      "outputs": [
        {
          "output_type": "stream",
          "name": "stdout",
          "text": [
            "Model trained Successfully\n"
          ]
        }
      ]
    },
    {
      "cell_type": "markdown",
      "metadata": {
        "id": "TiD7j_X9wnZz"
      },
      "source": [
        "\n",
        "**PLOTTING THE REGRESSION LINE**\n",
        "\n",
        "Now, Printing the coefficient and intercept values required to plot the regression line."
      ]
    },
    {
      "cell_type": "code",
      "metadata": {
        "colab": {
          "base_uri": "https://localhost:8080/"
        },
        "id": "QsEoOkwMwqla",
        "outputId": "1aa12cc8-a50c-4dfe-9a37-150981992a00"
      },
      "source": [
        "reg.coef_"
      ],
      "execution_count": null,
      "outputs": [
        {
          "output_type": "execute_result",
          "data": {
            "text/plain": [
              "array([9.94167834])"
            ]
          },
          "metadata": {},
          "execution_count": 43
        }
      ]
    },
    {
      "cell_type": "code",
      "metadata": {
        "colab": {
          "base_uri": "https://localhost:8080/"
        },
        "id": "P4JSRRzgwwWo",
        "outputId": "25575692-6674-432f-cd63-757c6123337c"
      },
      "source": [
        "reg.intercept_"
      ],
      "execution_count": null,
      "outputs": [
        {
          "output_type": "execute_result",
          "data": {
            "text/plain": [
              "1.9322042531516601"
            ]
          },
          "metadata": {},
          "execution_count": 44
        }
      ]
    },
    {
      "cell_type": "code",
      "metadata": {
        "colab": {
          "base_uri": "https://localhost:8080/",
          "height": 295
        },
        "id": "n9sDdIKcwyK9",
        "outputId": "881a3da4-6d09-4933-f82c-32997678d82a"
      },
      "source": [
        "# Plotting the regression line\n",
        "line = reg.coef_*x+reg.intercept_\n",
        "\n",
        "# Plotting for the test data of Hours Vs Scores(Percentage)\n",
        "# Scatter plot\n",
        "plt.scatter(x,y,color=\"red\")\n",
        "plt.title(\"Hours Vs Scores\")\n",
        "plt.xlabel(\"Hours studied\")\n",
        "plt.ylabel(\"Scores (Percentage)\")\n",
        "plt.plot(x,line,color=\"blue\")\n",
        "plt.show()"
      ],
      "execution_count": null,
      "outputs": [
        {
          "output_type": "display_data",
          "data": {
            "image/png": "[encoded data removed]",
            "text/plain": [
              "<Figure size 432x288 with 1 Axes>"
            ]
          },
          "metadata": {
            "needs_background": "light"
          }
        }
      ]
    },
    {
      "cell_type": "markdown",
      "metadata": {
        "id": "erubv9Ctw3A7"
      },
      "source": [
        "**PREDICTING THE SCORES**"
      ]
    },
    {
      "cell_type": "code",
      "metadata": {
        "colab": {
          "base_uri": "https://localhost:8080/"
        },
        "id": "5IyC-4Klw2g4",
        "outputId": "63d30446-c6c6-49db-ac93-0f9ecfbbe206"
      },
      "source": [
        "# Testing the data in Hours\n",
        "print(x_test)\n",
        "\n",
        "# Predicting the scores\n",
        "y_pred = reg.predict(x_test)"
      ],
      "execution_count": null,
      "outputs": [
        {
          "output_type": "stream",
          "name": "stdout",
          "text": [
            "[[1.5]\n",
            " [3.2]\n",
            " [7.4]\n",
            " [2.5]\n",
            " [5.9]\n",
            " [3.8]\n",
            " [1.9]]\n"
          ]
        }
      ]
    },
    {
      "cell_type": "code",
      "metadata": {
        "colab": {
          "base_uri": "https://localhost:8080/",
          "height": 266
        },
        "id": "EuwD2xvwwz5J",
        "outputId": "b02b3582-8230-4069-e5ba-d7b52ee176d5"
      },
      "source": [
        "# Comparing Predicted data with Actual Data\n",
        "data = pd.DataFrame({'Actual': y_test, 'Predicted': y_pred})\n",
        "data"
      ],
      "execution_count": null,
      "outputs": [
        {
          "output_type": "execute_result",
          "data": {
            "text/html": [
              "<div>\n",
              "<style scoped>\n",
              "    .dataframe tbody tr th:only-of-type {\n",
              "        vertical-align: middle;\n",
              "    }\n",
              "\n",
              "    .dataframe tbody tr th {\n",
              "        vertical-align: top;\n",
              "    }\n",
              "\n",
              "    .dataframe thead th {\n",
              "        text-align: right;\n",
              "    }\n",
              "</style>\n",
              "<table border=\"1\" class=\"dataframe\">\n",
              "  <thead>\n",
              "    <tr style=\"text-align: right;\">\n",
              "      <th></th>\n",
              "      <th>Actual</th>\n",
              "      <th>Predicted</th>\n",
              "    </tr>\n",
              "  </thead>\n",
              "  <tbody>\n",
              "    <tr>\n",
              "      <th>0</th>\n",
              "      <td>20</td>\n",
              "      <td>16.844722</td>\n",
              "    </tr>\n",
              "    <tr>\n",
              "      <th>1</th>\n",
              "      <td>27</td>\n",
              "      <td>33.745575</td>\n",
              "    </tr>\n",
              "    <tr>\n",
              "      <th>2</th>\n",
              "      <td>69</td>\n",
              "      <td>75.500624</td>\n",
              "    </tr>\n",
              "    <tr>\n",
              "      <th>3</th>\n",
              "      <td>30</td>\n",
              "      <td>26.786400</td>\n",
              "    </tr>\n",
              "    <tr>\n",
              "      <th>4</th>\n",
              "      <td>62</td>\n",
              "      <td>60.588106</td>\n",
              "    </tr>\n",
              "    <tr>\n",
              "      <th>5</th>\n",
              "      <td>35</td>\n",
              "      <td>39.710582</td>\n",
              "    </tr>\n",
              "    <tr>\n",
              "      <th>6</th>\n",
              "      <td>24</td>\n",
              "      <td>20.821393</td>\n",
              "    </tr>\n",
              "  </tbody>\n",
              "</table>\n",
              "</div>"
            ],
            "text/plain": [
              "   Actual  Predicted\n",
              "0      20  16.844722\n",
              "1      27  33.745575\n",
              "2      69  75.500624\n",
              "3      30  26.786400\n",
              "4      62  60.588106\n",
              "5      35  39.710582\n",
              "6      24  20.821393"
            ]
          },
          "metadata": {},
          "execution_count": 47
        }
      ]
    },
    {
      "cell_type": "markdown",
      "metadata": {
        "id": "A9W4rquAxSpQ"
      },
      "source": [
        "**Predicted score if a student studies for 9.25 hrs/ day?**"
      ]
    },
    {
      "cell_type": "code",
      "metadata": {
        "colab": {
          "base_uri": "https://localhost:8080/"
        },
        "id": "yumHkS5kxCzK",
        "outputId": "928aef67-2e1c-455b-f760-8b70400ea43a"
      },
      "source": [
        "# Predict the values by own data\n",
        "hours = [9.25]\n",
        "own_pre = reg.predict([hours])\n",
        "print(\"No. of Hours = {}\".format(hours))\n",
        "print(\"Predicted Score = {}\".format(own_pre[0]))"
      ],
      "execution_count": null,
      "outputs": [
        {
          "output_type": "stream",
          "name": "stdout",
          "text": [
            "No. of Hours = [9.25]\n",
            "Predicted Score = 93.89272889341652\n"
          ]
        }
      ]
    },
    {
      "cell_type": "markdown",
      "metadata": {
        "id": "DkdjWhsixoeY"
      },
      "source": [
        " **EVALUATING THE MODEL**\n",
        "\n",
        "\n",
        "They are used for verifying how well distinct algorithms perform well on datasets. Here , i have evaluated the model using mean absolute error, mean squared error and root mean squared error"
      ]
    },
    {
      "cell_type": "code",
      "metadata": {
        "colab": {
          "base_uri": "https://localhost:8080/"
        },
        "id": "AlzN3TaXxt_w",
        "outputId": "f64d6b47-5ecb-4a0b-e55c-672cb4837196"
      },
      "source": [
        "from sklearn import metrics\n",
        "print(\"Mean Absolure Error :\", \n",
        "      metrics.mean_absolute_error(y_test,y_pred))\n",
        "print(\"Mean Squared Error :\",\n",
        "      metrics.mean_squared_error(y_test,y_pred))\n",
        "print(\"Root Mean Squared Error :\", \n",
        "      np.sqrt(metrics.mean_squared_error(y_test,y_pred)))"
      ],
      "execution_count": null,
      "outputs": [
        {
          "output_type": "stream",
          "name": "stdout",
          "text": [
            "Mean Absolure Error : 4.419727808027651\n",
            "Mean Squared Error : 22.965097212700428\n",
            "Root Mean Squared Error : 4.7921912746363144\n"
          ]
        }
      ]
    },
    {
      "cell_type": "markdown",
      "metadata": {
        "id": "0HtiNCKegWuo"
      },
      "source": [
        "# **Predict the percentage of an student based on the no. of study hours**"
      ]
    },
    {
      "cell_type": "markdown",
      "metadata": {
        "id": "k09PyrZUyj6g"
      },
      "source": [
        "According to the regression model, if a student studies for 9.25 hours then the percentage or score of student is **93.89** marks."
      ]
    }
  ]
}